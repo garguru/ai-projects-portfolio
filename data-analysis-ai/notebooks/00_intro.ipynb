{
 "cells": [
  {
   "cell_type": "markdown",
   "metadata": {},
   "source": [
    "# 🚀 Data Analysis AI - Introduction Notebook\n",
    "\n",
    "**How to run this notebook:**\n",
    "1. Ensure you're in the project root directory\n",
    "2. Install dependencies: `pip install -r requirements.txt`\n",
    "3. Start Jupyter: `jupyter lab` or `jupyter notebook`\n",
    "4. Run cells sequentially with Shift+Enter or use Run → Run All Cells\n",
    "\n",
    "**Expected outputs:**\n",
    "- Sample cryptocurrency data analysis\n",
    "- Interactive visualizations\n",
    "- Key insights and recommendations\n",
    "- Saved results in `results/` directory"
   ]
  },
  {
   "cell_type": "markdown",
   "metadata": {},
   "source": [
    "## 🔧 Environment Setup"
   ]
  },
  {
   "cell_type": "code",
   "execution_count": null,
   "metadata": {},
   "outputs": [],
   "source": [
    "# Check Python version and key libraries\n",
    "import sys\n",
    "print(f\"Python version: {sys.version}\")\n",
    "\n",
    "try:\n",
    "    import pandas as pd\n",
    "    import numpy as np\n",
    "    import matplotlib.pyplot as plt\n",
    "    import seaborn as sns\n",
    "    print(\"✅ All required libraries available\")\n",
    "    print(f\"📊 Pandas: {pd.__version__}\")\n",
    "    print(f\"🔢 NumPy: {np.__version__}\")\nexcept ImportError as e:\n",
    "    print(f\"❌ Missing library: {e}\")\n",
    "    print(\"Run: pip install -r requirements.txt\")"
   ]
  },
  {
   "cell_type": "code",
   "execution_count": null,
   "metadata": {},
   "outputs": [],
   "source": [
    "# Setup project paths and imports\n",
    "import sys\n",
    "from pathlib import Path\n",
    "\n",
    "# Add project directories to Python path\n",
    "project_root = Path('.').absolute()\n",
    "sys.path.insert(0, str(project_root / \"src\"))\n",
    "sys.path.insert(0, str(project_root / \"configs\"))\n",
    "\n",
    "# Import project modules\n",
    "from common.io import load_sample_data, validate_dataframe, get_data_info\n",
    "from common.plots import setup_plot_style, plot_price_chart, create_dashboard\n",
    "\n",
    "print(f\"📁 Project root: {project_root}\")\n",
    "print(\"✅ Project modules loaded successfully\")"
   ]
  },
  {
   "cell_type": "markdown",
   "metadata": {},
   "source": [
    "## 📊 Data Loading and Exploration"
   ]
  },
  {
   "cell_type": "code",
   "execution_count": null,
   "metadata": {},
   "outputs": [],
   "source": [
    "# Load sample cryptocurrency data\n",
    "df = load_sample_data()\n",
    "\n",
    "print(\"📈 Sample cryptocurrency data loaded:\")\n",
    "print(get_data_info(df))\n",
    "\n",
    "# Display first few rows\n",
    "df.head()"
   ]
  },
  {
   "cell_type": "code",
   "execution_count": null,
   "metadata": {},
   "outputs": [],
   "source": [
    "# Data quality validation\n",
    "validation_results = validate_dataframe(df, required_columns=['date', 'price', 'volume'])\n",
    "\n",
    "print(f\"✅ Data validation: {'PASSED' if validation_results['is_valid'] else 'FAILED'}\")\n",
    "\n",
    "if validation_results['issues']:\n",
    "    print(\"⚠️  Issues found:\")\n",
    "    for issue in validation_results['issues']:\n",
    "        print(f\"  • {issue}\")\n",
    "\n",
    "print(\"\\n📊 Quality metrics:\")\n",
    "for metric, value in validation_results['metrics'].items():\n",
    "    print(f\"  • {metric}: {value}\")"
   ]
  },
  {
   "cell_type": "markdown",
   "metadata": {},
   "source": [
    "## 🔍 Data Analysis"
   ]
  },
  {
   "cell_type": "code",
   "execution_count": null,
   "metadata": {},
   "outputs": [],
   "source": [
    "# Calculate basic statistics\n",
    "print(\"📊 Basic Statistics:\")\n",
    "print(f\"Average Price: ${df['price'].mean():,.2f}\")\n",
    "print(f\"Price Range: ${df['price'].min():,.2f} - ${df['price'].max():,.2f}\")\n",
    "print(f\"Total Volume: {df['volume'].sum():,.0f}\")\n",
    "print(f\"Days of data: {len(df)}\")\n",
    "\n",
    "# Price change over period\n",
    "price_change = (df['price'].iloc[-1] - df['price'].iloc[0]) / df['price'].iloc[0]\n",
    "print(f\"\\n📈 Price Performance:\")\n",
    "print(f\"Total return: {price_change:.1%}\")\n",
    "\n",
    "# Calculate technical indicators\n",
    "df['returns'] = df['price'].pct_change()\n",
    "df['ma_7'] = df['price'].rolling(7).mean()\n",
    "df['ma_21'] = df['price'].rolling(21).mean()\n",
    "df['volatility'] = df['returns'].rolling(7).std()\n",
    "\n",
    "print(f\"Average daily return: {df['returns'].mean():.2%}\")\n",
    "print(f\"Volatility (7-day): {df['volatility'].mean():.2%}\")\n",
    "\n",
    "# Display enhanced data\n",
    "df.tail()"
   ]
  },
  {
   "cell_type": "markdown",
   "metadata": {},
   "source": [
    "## 📊 Visualizations"
   ]
  },
  {
   "cell_type": "code",
   "execution_count": null,
   "metadata": {},
   "outputs": [],
   "source": [
    "# Setup plotting style\n",
    "setup_plot_style()\n",
    "\n",
    "# Create price chart with moving averages\n",
    "fig = plot_price_chart(df, title=\"BTC-USD Sample Data Analysis\")\n",
    "plt.show()\n",
    "\n",
    "print(\"📊 Price chart with moving averages displayed above\")"
   ]
  },
  {
   "cell_type": "code",
   "execution_count": null,
   "metadata": {},
   "outputs": [],
   "source": [
    "# Create comprehensive dashboard\n",
    "fig = create_dashboard(df, title=\"Cryptocurrency Analysis Dashboard\")\n",
    "plt.show()\n",
    "\n",
    "print(\"📊 Complete analysis dashboard displayed above\")"
   ]
  },
  {
   "cell_type": "markdown",
   "metadata": {},
   "source": [
    "## 🤖 AI-Powered Insights"
   ]
  },
  {
   "cell_type": "code",
   "execution_count": null,
   "metadata": {},
   "outputs": [],
   "source": [
    "# Generate insights based on the analysis\n",
    "def generate_insights(df):\n",
    "    \"\"\"Generate AI-style insights from the data\"\"\"\n",
    "    insights = []\n",
    "    \n",
    "    # Price trend analysis\n",
    "    price_change = (df['price'].iloc[-1] - df['price'].iloc[0]) / df['price'].iloc[0]\n",
    "    if price_change > 0.1:\n",
    "        insights.append(\"🚀 Strong upward trend detected - significant price appreciation\")\n",
    "    elif price_change > 0:\n",
    "        insights.append(\"📈 Moderate upward trend - positive price movement\")\n",
    "    else:\n",
    "        insights.append(\"📉 Downward trend - price has declined over the period\")\n",
    "    \n",
    "    # Volatility analysis\n",
    "    avg_volatility = df['volatility'].mean()\n",
    "    if avg_volatility > 0.05:\n",
    "        insights.append(\"⚡ High volatility environment - increased risk and opportunity\")\n",
    "    elif avg_volatility > 0.03:\n",
    "        insights.append(\"📊 Moderate volatility - normal market conditions\")\n",
    "    else:\n",
    "        insights.append(\"🔒 Low volatility - stable price environment\")\n",
    "    \n",
    "    # Moving average analysis\n",
    "    current_price = df['price'].iloc[-1]\n",
    "    current_ma7 = df['ma_7'].iloc[-1]\n",
    "    current_ma21 = df['ma_21'].iloc[-1]\n",
    "    \n",
    "    if current_price > current_ma7 > current_ma21:\n",
    "        insights.append(\"✨ Bullish momentum - price above both moving averages\")\n",
    "    elif current_price < current_ma7 < current_ma21:\n",
    "        insights.append(\"🔻 Bearish momentum - price below both moving averages\")\n",
    "    else:\n",
    "        insights.append(\"⚖️ Mixed signals - price between moving averages\")\n",
    "    \n",
    "    # Volume analysis\n",
    "    recent_volume = df['volume'].tail(7).mean()\n",
    "    overall_volume = df['volume'].mean()\n",
    "    \n",
    "    if recent_volume > overall_volume * 1.2:\n",
    "        insights.append(\"📊 Elevated trading volume - increased market interest\")\n",
    "    elif recent_volume < overall_volume * 0.8:\n",
    "        insights.append(\"📉 Lower trading volume - decreased market activity\")\n",
    "    \n",
    "    return insights\n",
    "\n",
    "# Generate and display insights\n",
    "insights = generate_insights(df)\n",
    "\n",
    "print(\"🤖 AI-Generated Insights:\")\n",
    "print(\"=\" * 40)\n",
    "for i, insight in enumerate(insights, 1):\n",
    "    print(f\"{i}. {insight}\")\n",
    "\n",
    "# Trading recommendation logic\n",
    "price_change = (df['price'].iloc[-1] - df['price'].iloc[0]) / df['price'].iloc[0]\n",
    "volatility = df['volatility'].mean()\n",
    "\n",
    "print(\"\\n💡 Trading Recommendation:\")\n",
    "if price_change > 0.05 and volatility < 0.04:\n",
    "    recommendation = \"🟢 BULLISH - Consider accumulating on dips\"\n",
    "elif price_change < -0.05 and volatility > 0.05:\n",
    "    recommendation = \"🔴 BEARISH - Consider reducing exposure\"\n",
    "elif volatility > 0.06:\n",
    "    recommendation = \"🟡 HIGH RISK - Use tight risk management\"\n",
    "else:\n",
    "    recommendation = \"🟡 NEUTRAL - Wait for clearer signals\"\n",
    "\n",
    "print(f\"Recommendation: {recommendation}\")\n",
    "print(f\"Confidence: Based on {len(df)} days of data analysis\")"
   ]
  },
  {
   "cell_type": "markdown",
   "metadata": {},
   "source": [
    "## 💾 Save Results"
   ]
  },
  {
   "cell_type": "code",
   "execution_count": null,
   "metadata": {},
   "outputs": [],
   "source": [
    "# Save processed data and results\n",
    "from common.io import save_csv\n",
    "\n",
    "# Create results directory\n",
    "results_dir = project_root / \"results\" / \"notebook_outputs\"\n",
    "results_dir.mkdir(parents=True, exist_ok=True)\n",
    "\n",
    "# Save processed data with indicators\n",
    "processed_file = save_csv(df, results_dir / \"processed_crypto_data.csv\")\n",
    "print(f\"💾 Processed data saved to: {processed_file}\")\n",
    "\n",
    "# Save insights summary\n",
    "insights_df = pd.DataFrame({\n",
    "    'insight': insights,\n",
    "    'timestamp': pd.Timestamp.now()\n",
    "})\n",
    "insights_file = save_csv(insights_df, results_dir / \"ai_insights.csv\")\n",
    "print(f\"🤖 AI insights saved to: {insights_file}\")\n",
    "\n",
    "# Save key metrics\n",
    "metrics = {\n",
    "    'avg_price': df['price'].mean(),\n",
    "    'price_change': price_change,\n",
    "    'volatility': volatility,\n",
    "    'total_volume': df['volume'].sum(),\n",
    "    'recommendation': recommendation\n",
    "}\n",
    "\n",
    "metrics_df = pd.DataFrame([metrics])\n",
    "metrics_file = save_csv(metrics_df, results_dir / \"analysis_metrics.csv\")\n",
    "print(f\"📊 Analysis metrics saved to: {metrics_file}\")\n",
    "\n",
    "print(\"\\n✅ All results saved successfully!\")"
   ]
  },
  {
   "cell_type": "markdown",
   "metadata": {},
   "source": [
    "## 🎓 What I Learned\n",
    "\n",
    "This notebook demonstrates:\n",
    "\n",
    "### 📊 **Data Science Best Practices:**\n",
    "- **Reproducible analysis** with consistent data loading\n",
    "- **Data validation** to ensure quality\n",
    "- **Modular code** with reusable functions\n",
    "- **Professional visualizations** with clear insights\n",
    "\n",
    "### 🔧 **Technical Skills:**\n",
    "- **pandas** for data manipulation\n",
    "- **matplotlib/seaborn** for visualization\n",
    "- **numpy** for numerical computations\n",
    "- **pathlib** for file management\n",
    "\n",
    "### 💡 **Financial Analysis:**\n",
    "- **Moving averages** for trend identification\n",
    "- **Volatility analysis** for risk assessment\n",
    "- **Return calculations** for performance measurement\n",
    "- **Volume analysis** for market sentiment\n",
    "\n",
    "### 🚀 **Next Steps:**\n",
    "1. Run the full pipeline: `python run_pipeline.py`\n",
    "2. Explore other analysis scripts in `src/`\n",
    "3. Modify parameters in `configs/config.py`\n",
    "4. Add your own analysis ideas!\n",
    "\n",
    "---\n",
    "\n",
    "*This notebook showcases the journey from raw data to actionable insights - just like transforming ingredients into a Michelin-star dish! 👨‍🍳➡️👨‍💻*"
   ]
  }
 ],
 "metadata": {
  "kernelspec": {
   "display_name": "Python 3",
   "language": "python",
   "name": "python3"
  },
  "language_info": {
   "codemirror_mode": {
    "name": "ipython",
    "version": 3
   },
   "file_extension": ".py",
   "mimetype": "text/x-python",
   "name": "python",
   "nbconvert_exporter": "python",
   "pygments_lexer": "ipython3",
   "version": "3.11.0"
  }
 },
 "nbformat": 4,
 "nbformat_minor": 4
}